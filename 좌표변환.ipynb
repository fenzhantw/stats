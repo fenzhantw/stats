{
 "cells": [
  {
   "cell_type": "code",
   "execution_count": 1,
   "metadata": {
    "ExecuteTime": {
     "end_time": "2021-07-07T07:25:36.347121Z",
     "start_time": "2021-07-07T07:25:26.903412Z"
    },
    "colab": {
     "base_uri": "https://localhost:8080/"
    },
    "executionInfo": {
     "elapsed": 6300,
     "status": "ok",
     "timestamp": 1625639237492,
     "user": {
      "displayName": "최성욱",
      "photoUrl": "",
      "userId": "13743263358405601222"
     },
     "user_tz": -540
    },
    "id": "qTS_F8qPpfhP",
    "outputId": "56e93196-860e-4000-e0f2-a9911768c40a"
   },
   "outputs": [
    {
     "name": "stdout",
     "output_type": "stream",
     "text": [
      "Collecting pyproj\n",
      "  Downloading pyproj-3.1.0-cp37-cp37m-win_amd64.whl (14.5 MB)\n",
      "Requirement already satisfied: certifi in c:\\users\\asus vivobook\\anaconda3\\lib\\site-packages (from pyproj) (2021.5.30)\n",
      "Installing collected packages: pyproj\n",
      "Successfully installed pyproj-3.1.0\n"
     ]
    }
   ],
   "source": [
    "!pip install pyproj"
   ]
  },
  {
   "cell_type": "code",
   "execution_count": 1,
   "metadata": {
    "ExecuteTime": {
     "end_time": "2021-07-07T14:26:29.689158Z",
     "start_time": "2021-07-07T14:26:28.161044Z"
    },
    "executionInfo": {
     "elapsed": 272,
     "status": "ok",
     "timestamp": 1625639261900,
     "user": {
      "displayName": "최성욱",
      "photoUrl": "",
      "userId": "13743263358405601222"
     },
     "user_tz": -540
    },
    "id": "_1rDJZ2EKfG_"
   },
   "outputs": [],
   "source": [
    "from pyproj import Proj, transform\n",
    "import numpy as np\n",
    "import pandas as pd"
   ]
  },
  {
   "cell_type": "code",
   "execution_count": 2,
   "metadata": {
    "ExecuteTime": {
     "end_time": "2021-07-07T14:26:32.339372Z",
     "start_time": "2021-07-07T14:26:29.742165Z"
    },
    "executionInfo": {
     "elapsed": 965,
     "status": "ok",
     "timestamp": 1625639498648,
     "user": {
      "displayName": "최성욱",
      "photoUrl": "",
      "userId": "13743263358405601222"
     },
     "user_tz": -540
    },
    "id": "YiUo9JtZqWGA"
   },
   "outputs": [],
   "source": [
    "data = pd.read_excel('성연령별유동인구(202012).xlsx')\n",
    "df = pd.read_excel('첫번째정리자료-좌표변환.xlsx')"
   ]
  },
  {
   "cell_type": "code",
   "execution_count": 6,
   "metadata": {
    "ExecuteTime": {
     "end_time": "2021-07-07T14:27:34.562029Z",
     "start_time": "2021-07-07T14:27:34.549026Z"
    }
   },
   "outputs": [],
   "source": [
    "data=data.drop(0)"
   ]
  },
  {
   "cell_type": "code",
   "execution_count": 66,
   "metadata": {
    "ExecuteTime": {
     "end_time": "2021-07-07T14:48:02.405842Z",
     "start_time": "2021-07-07T14:48:02.350837Z"
    }
   },
   "outputs": [],
   "source": [
    "data['total']=0\n",
    "\n",
    "for x in range(30):\n",
    "    data['total']=data['total']+data.iloc[:,x+5]"
   ]
  },
  {
   "cell_type": "code",
   "execution_count": 69,
   "metadata": {
    "ExecuteTime": {
     "end_time": "2021-07-07T14:48:45.910636Z",
     "start_time": "2021-07-07T14:48:45.903630Z"
    }
   },
   "outputs": [],
   "source": [
    "pop=data[['X_COORD','Y_COORD','total']]"
   ]
  },
  {
   "cell_type": "code",
   "execution_count": 85,
   "metadata": {
    "ExecuteTime": {
     "end_time": "2021-07-07T14:52:20.058223Z",
     "start_time": "2021-07-07T14:52:20.044237Z"
    }
   },
   "outputs": [],
   "source": [
    "pick=pd.DataFrame()\n",
    "pick['total']=0\n",
    "pick['X_COORD']=df['경도']\n",
    "pick['Y_COORD']=df['위도']"
   ]
  },
  {
   "cell_type": "code",
   "execution_count": 98,
   "metadata": {
    "ExecuteTime": {
     "end_time": "2021-07-07T14:55:45.372721Z",
     "start_time": "2021-07-07T14:55:31.505664Z"
    }
   },
   "outputs": [],
   "source": [
    "for x in range(len(pick)):\n",
    "\n",
    "    temp=pd.DataFrame()\n",
    "    temp=pop.copy()\n",
    "    temp['X_COORD']=temp['X_COORD']-pick['X_COORD'].iloc[x]\n",
    "    temp['Y_COORD']=temp['Y_COORD']-pick['Y_COORD'].iloc[x]\n",
    "    temp['X_COORD']=temp['X_COORD'].astype(float)\n",
    "    temp['Y_COORD']=temp['Y_COORD'].astype(float)\n",
    "\n",
    "    # 지정된 범위에 속한 좌표의 합을 추출\n",
    "    pick['total'].iloc[x]=temp[(-10000<temp.X_COORD)&(temp.X_COORD<10000)&(-10000<temp.Y_COORD)&(temp.Y_COORD<10000)].sum().total"
   ]
  },
  {
   "cell_type": "code",
   "execution_count": 99,
   "metadata": {
    "ExecuteTime": {
     "end_time": "2021-07-07T14:55:45.594717Z",
     "start_time": "2021-07-07T14:55:45.567715Z"
    }
   },
   "outputs": [
    {
     "data": {
      "text/plain": [
       "197.66    27\n",
       "0.00      22\n",
       "174.69    21\n",
       "309.51    19\n",
       "326.58    16\n",
       "          ..\n",
       "224.98     1\n",
       "151.46     1\n",
       "159.49     1\n",
       "277.34     1\n",
       "7.00       1\n",
       "Name: total, Length: 966, dtype: int64"
      ]
     },
     "execution_count": 99,
     "metadata": {},
     "output_type": "execute_result"
    }
   ],
   "source": [
    "pick.total.value_counts()"
   ]
  },
  {
   "cell_type": "code",
   "execution_count": 102,
   "metadata": {
    "ExecuteTime": {
     "end_time": "2021-07-07T14:56:47.237855Z",
     "start_time": "2021-07-07T14:56:47.221852Z"
    }
   },
   "outputs": [],
   "source": [
    "df['유동인구']=pick['total']/12"
   ]
  }
 ],
 "metadata": {
  "colab": {
   "authorship_tag": "ABX9TyPTov3ar6ckZWyI2lFlPNIq",
   "name": "좌표변환.ipynb",
   "provenance": []
  },
  "hide_input": false,
  "kernelspec": {
   "display_name": "Python 3",
   "language": "python",
   "name": "python3"
  },
  "language_info": {
   "codemirror_mode": {
    "name": "ipython",
    "version": 3
   },
   "file_extension": ".py",
   "mimetype": "text/x-python",
   "name": "python",
   "nbconvert_exporter": "python",
   "pygments_lexer": "ipython3",
   "version": "3.7.6"
  },
  "varInspector": {
   "cols": {
    "lenName": 16,
    "lenType": 16,
    "lenVar": 40
   },
   "kernels_config": {
    "python": {
     "delete_cmd_postfix": "",
     "delete_cmd_prefix": "del ",
     "library": "var_list.py",
     "varRefreshCmd": "print(var_dic_list())"
    },
    "r": {
     "delete_cmd_postfix": ") ",
     "delete_cmd_prefix": "rm(",
     "library": "var_list.r",
     "varRefreshCmd": "cat(var_dic_list()) "
    }
   },
   "types_to_exclude": [
    "module",
    "function",
    "builtin_function_or_method",
    "instance",
    "_Feature"
   ],
   "window_display": false
  }
 },
 "nbformat": 4,
 "nbformat_minor": 1
}
